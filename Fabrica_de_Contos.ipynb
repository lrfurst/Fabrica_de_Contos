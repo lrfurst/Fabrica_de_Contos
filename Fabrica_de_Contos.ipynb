{
  "nbformat": 4,
  "nbformat_minor": 0,
  "metadata": {
    "colab": {
      "provenance": [],
      "name": "Fabrica_de_Contos.ipynb",
      "include_colab_link": true
    },
    "kernelspec": {
      "name": "python3",
      "display_name": "Python 3"
    },
    "language_info": {
      "name": "python"
    },
    "widgets": {
      "application/vnd.jupyter.widget-state+json": {
        "5d8543fce47142e3ab90ad7c403104d4": {
          "model_module": "@jupyter-widgets/controls",
          "model_name": "DropdownModel",
          "model_module_version": "1.5.0",
          "state": {
            "_dom_classes": [],
            "_model_module": "@jupyter-widgets/controls",
            "_model_module_version": "1.5.0",
            "_model_name": "DropdownModel",
            "_options_labels": [
              "Aventura",
              "Fantasia",
              "Conto de Fadas",
              "Fábula",
              "Mistério"
            ],
            "_view_count": null,
            "_view_module": "@jupyter-widgets/controls",
            "_view_module_version": "1.5.0",
            "_view_name": "DropdownView",
            "description": "Tipo de História:",
            "description_tooltip": null,
            "disabled": false,
            "index": 3,
            "layout": "IPY_MODEL_ff9e147308da4ae18b36a1c1b2055d25",
            "style": "IPY_MODEL_c7ad770773a74722860051a1ebb00625"
          }
        },
        "ff9e147308da4ae18b36a1c1b2055d25": {
          "model_module": "@jupyter-widgets/base",
          "model_name": "LayoutModel",
          "model_module_version": "1.2.0",
          "state": {
            "_model_module": "@jupyter-widgets/base",
            "_model_module_version": "1.2.0",
            "_model_name": "LayoutModel",
            "_view_count": null,
            "_view_module": "@jupyter-widgets/base",
            "_view_module_version": "1.2.0",
            "_view_name": "LayoutView",
            "align_content": null,
            "align_items": null,
            "align_self": null,
            "border": null,
            "bottom": null,
            "display": null,
            "flex": null,
            "flex_flow": null,
            "grid_area": null,
            "grid_auto_columns": null,
            "grid_auto_flow": null,
            "grid_auto_rows": null,
            "grid_column": null,
            "grid_gap": null,
            "grid_row": null,
            "grid_template_areas": null,
            "grid_template_columns": null,
            "grid_template_rows": null,
            "height": null,
            "justify_content": null,
            "justify_items": null,
            "left": null,
            "margin": null,
            "max_height": null,
            "max_width": null,
            "min_height": null,
            "min_width": null,
            "object_fit": null,
            "object_position": null,
            "order": null,
            "overflow": null,
            "overflow_x": null,
            "overflow_y": null,
            "padding": null,
            "right": null,
            "top": null,
            "visibility": null,
            "width": null
          }
        },
        "c7ad770773a74722860051a1ebb00625": {
          "model_module": "@jupyter-widgets/controls",
          "model_name": "DescriptionStyleModel",
          "model_module_version": "1.5.0",
          "state": {
            "_model_module": "@jupyter-widgets/controls",
            "_model_module_version": "1.5.0",
            "_model_name": "DescriptionStyleModel",
            "_view_count": null,
            "_view_module": "@jupyter-widgets/base",
            "_view_module_version": "1.2.0",
            "_view_name": "StyleView",
            "description_width": ""
          }
        },
        "8ba51d576f3549daaf03a75056504e18": {
          "model_module": "@jupyter-widgets/controls",
          "model_name": "DropdownModel",
          "model_module_version": "1.5.0",
          "state": {
            "_dom_classes": [],
            "_model_module": "@jupyter-widgets/controls",
            "_model_module_version": "1.5.0",
            "_model_name": "DropdownModel",
            "_options_labels": [
              "Um coelhinho esperto",
              "Uma princesa corajosa",
              "Um robô curioso",
              "Uma fada travessa",
              "Um dragão amigável"
            ],
            "_view_count": null,
            "_view_module": "@jupyter-widgets/controls",
            "_view_module_version": "1.5.0",
            "_view_name": "DropdownView",
            "description": "Personagem:",
            "description_tooltip": null,
            "disabled": false,
            "index": 2,
            "layout": "IPY_MODEL_867e58a271834229819ea3d9d9119554",
            "style": "IPY_MODEL_59c268ebf7a14a0388677272d8efec10"
          }
        },
        "867e58a271834229819ea3d9d9119554": {
          "model_module": "@jupyter-widgets/base",
          "model_name": "LayoutModel",
          "model_module_version": "1.2.0",
          "state": {
            "_model_module": "@jupyter-widgets/base",
            "_model_module_version": "1.2.0",
            "_model_name": "LayoutModel",
            "_view_count": null,
            "_view_module": "@jupyter-widgets/base",
            "_view_module_version": "1.2.0",
            "_view_name": "LayoutView",
            "align_content": null,
            "align_items": null,
            "align_self": null,
            "border": null,
            "bottom": null,
            "display": null,
            "flex": null,
            "flex_flow": null,
            "grid_area": null,
            "grid_auto_columns": null,
            "grid_auto_flow": null,
            "grid_auto_rows": null,
            "grid_column": null,
            "grid_gap": null,
            "grid_row": null,
            "grid_template_areas": null,
            "grid_template_columns": null,
            "grid_template_rows": null,
            "height": null,
            "justify_content": null,
            "justify_items": null,
            "left": null,
            "margin": null,
            "max_height": null,
            "max_width": null,
            "min_height": null,
            "min_width": null,
            "object_fit": null,
            "object_position": null,
            "order": null,
            "overflow": null,
            "overflow_x": null,
            "overflow_y": null,
            "padding": null,
            "right": null,
            "top": null,
            "visibility": null,
            "width": null
          }
        },
        "59c268ebf7a14a0388677272d8efec10": {
          "model_module": "@jupyter-widgets/controls",
          "model_name": "DescriptionStyleModel",
          "model_module_version": "1.5.0",
          "state": {
            "_model_module": "@jupyter-widgets/controls",
            "_model_module_version": "1.5.0",
            "_model_name": "DescriptionStyleModel",
            "_view_count": null,
            "_view_module": "@jupyter-widgets/base",
            "_view_module_version": "1.2.0",
            "_view_name": "StyleView",
            "description_width": ""
          }
        },
        "99f7d8a5a5824622b6eb04ecddb7532d": {
          "model_module": "@jupyter-widgets/controls",
          "model_name": "DropdownModel",
          "model_module_version": "1.5.0",
          "state": {
            "_dom_classes": [],
            "_model_module": "@jupyter-widgets/controls",
            "_model_module_version": "1.5.0",
            "_model_name": "DropdownModel",
            "_options_labels": [
              "Uma floresta mágica",
              "Um castelo antigo",
              "Uma nave espacial",
              "Uma ilha deserta",
              "Uma cidade movimentada"
            ],
            "_view_count": null,
            "_view_module": "@jupyter-widgets/controls",
            "_view_module_version": "1.5.0",
            "_view_name": "DropdownView",
            "description": "Contexto:",
            "description_tooltip": null,
            "disabled": false,
            "index": 2,
            "layout": "IPY_MODEL_fc0805875f724020802c7b84ad6e0806",
            "style": "IPY_MODEL_f1bce56325004473bd21a7c0aa998c8b"
          }
        },
        "fc0805875f724020802c7b84ad6e0806": {
          "model_module": "@jupyter-widgets/base",
          "model_name": "LayoutModel",
          "model_module_version": "1.2.0",
          "state": {
            "_model_module": "@jupyter-widgets/base",
            "_model_module_version": "1.2.0",
            "_model_name": "LayoutModel",
            "_view_count": null,
            "_view_module": "@jupyter-widgets/base",
            "_view_module_version": "1.2.0",
            "_view_name": "LayoutView",
            "align_content": null,
            "align_items": null,
            "align_self": null,
            "border": null,
            "bottom": null,
            "display": null,
            "flex": null,
            "flex_flow": null,
            "grid_area": null,
            "grid_auto_columns": null,
            "grid_auto_flow": null,
            "grid_auto_rows": null,
            "grid_column": null,
            "grid_gap": null,
            "grid_row": null,
            "grid_template_areas": null,
            "grid_template_columns": null,
            "grid_template_rows": null,
            "height": null,
            "justify_content": null,
            "justify_items": null,
            "left": null,
            "margin": null,
            "max_height": null,
            "max_width": null,
            "min_height": null,
            "min_width": null,
            "object_fit": null,
            "object_position": null,
            "order": null,
            "overflow": null,
            "overflow_x": null,
            "overflow_y": null,
            "padding": null,
            "right": null,
            "top": null,
            "visibility": null,
            "width": null
          }
        },
        "f1bce56325004473bd21a7c0aa998c8b": {
          "model_module": "@jupyter-widgets/controls",
          "model_name": "DescriptionStyleModel",
          "model_module_version": "1.5.0",
          "state": {
            "_model_module": "@jupyter-widgets/controls",
            "_model_module_version": "1.5.0",
            "_model_name": "DescriptionStyleModel",
            "_view_count": null,
            "_view_module": "@jupyter-widgets/base",
            "_view_module_version": "1.2.0",
            "_view_name": "StyleView",
            "description_width": ""
          }
        },
        "4e6027f215344130867116067f90a8a6": {
          "model_module": "@jupyter-widgets/controls",
          "model_name": "IntSliderModel",
          "model_module_version": "1.5.0",
          "state": {
            "_dom_classes": [],
            "_model_module": "@jupyter-widgets/controls",
            "_model_module_version": "1.5.0",
            "_model_name": "IntSliderModel",
            "_view_count": null,
            "_view_module": "@jupyter-widgets/controls",
            "_view_module_version": "1.5.0",
            "_view_name": "IntSliderView",
            "continuous_update": true,
            "description": "Tamanho (parágrafos):",
            "description_tooltip": null,
            "disabled": false,
            "layout": "IPY_MODEL_57675784218146b2b532412eeefdd96d",
            "max": 5,
            "min": 1,
            "orientation": "horizontal",
            "readout": true,
            "readout_format": "d",
            "step": 1,
            "style": "IPY_MODEL_e891c64955ad4cc0add345be5ec6ffa8",
            "value": 3
          }
        },
        "57675784218146b2b532412eeefdd96d": {
          "model_module": "@jupyter-widgets/base",
          "model_name": "LayoutModel",
          "model_module_version": "1.2.0",
          "state": {
            "_model_module": "@jupyter-widgets/base",
            "_model_module_version": "1.2.0",
            "_model_name": "LayoutModel",
            "_view_count": null,
            "_view_module": "@jupyter-widgets/base",
            "_view_module_version": "1.2.0",
            "_view_name": "LayoutView",
            "align_content": null,
            "align_items": null,
            "align_self": null,
            "border": null,
            "bottom": null,
            "display": null,
            "flex": null,
            "flex_flow": null,
            "grid_area": null,
            "grid_auto_columns": null,
            "grid_auto_flow": null,
            "grid_auto_rows": null,
            "grid_column": null,
            "grid_gap": null,
            "grid_row": null,
            "grid_template_areas": null,
            "grid_template_columns": null,
            "grid_template_rows": null,
            "height": null,
            "justify_content": null,
            "justify_items": null,
            "left": null,
            "margin": null,
            "max_height": null,
            "max_width": null,
            "min_height": null,
            "min_width": null,
            "object_fit": null,
            "object_position": null,
            "order": null,
            "overflow": null,
            "overflow_x": null,
            "overflow_y": null,
            "padding": null,
            "right": null,
            "top": null,
            "visibility": null,
            "width": null
          }
        },
        "e891c64955ad4cc0add345be5ec6ffa8": {
          "model_module": "@jupyter-widgets/controls",
          "model_name": "SliderStyleModel",
          "model_module_version": "1.5.0",
          "state": {
            "_model_module": "@jupyter-widgets/controls",
            "_model_module_version": "1.5.0",
            "_model_name": "SliderStyleModel",
            "_view_count": null,
            "_view_module": "@jupyter-widgets/base",
            "_view_module_version": "1.2.0",
            "_view_name": "StyleView",
            "description_width": "",
            "handle_color": null
          }
        },
        "c8c83e4b9ca648dfbf27f554bd25a5c5": {
          "model_module": "@jupyter-widgets/controls",
          "model_name": "DropdownModel",
          "model_module_version": "1.5.0",
          "state": {
            "_dom_classes": [],
            "_model_module": "@jupyter-widgets/controls",
            "_model_module_version": "1.5.0",
            "_model_name": "DropdownModel",
            "_options_labels": [
              "Divertido",
              "Emocionante",
              "Educativo",
              "Mágico",
              "Curioso"
            ],
            "_view_count": null,
            "_view_module": "@jupyter-widgets/controls",
            "_view_module_version": "1.5.0",
            "_view_name": "DropdownView",
            "description": "Tom:",
            "description_tooltip": null,
            "disabled": false,
            "index": 3,
            "layout": "IPY_MODEL_7ae4d1627def4997bae4796f8e63588d",
            "style": "IPY_MODEL_cb84b73f74364bd5bbd2b86f997ac0d9"
          }
        },
        "7ae4d1627def4997bae4796f8e63588d": {
          "model_module": "@jupyter-widgets/base",
          "model_name": "LayoutModel",
          "model_module_version": "1.2.0",
          "state": {
            "_model_module": "@jupyter-widgets/base",
            "_model_module_version": "1.2.0",
            "_model_name": "LayoutModel",
            "_view_count": null,
            "_view_module": "@jupyter-widgets/base",
            "_view_module_version": "1.2.0",
            "_view_name": "LayoutView",
            "align_content": null,
            "align_items": null,
            "align_self": null,
            "border": null,
            "bottom": null,
            "display": null,
            "flex": null,
            "flex_flow": null,
            "grid_area": null,
            "grid_auto_columns": null,
            "grid_auto_flow": null,
            "grid_auto_rows": null,
            "grid_column": null,
            "grid_gap": null,
            "grid_row": null,
            "grid_template_areas": null,
            "grid_template_columns": null,
            "grid_template_rows": null,
            "height": null,
            "justify_content": null,
            "justify_items": null,
            "left": null,
            "margin": null,
            "max_height": null,
            "max_width": null,
            "min_height": null,
            "min_width": null,
            "object_fit": null,
            "object_position": null,
            "order": null,
            "overflow": null,
            "overflow_x": null,
            "overflow_y": null,
            "padding": null,
            "right": null,
            "top": null,
            "visibility": null,
            "width": null
          }
        },
        "cb84b73f74364bd5bbd2b86f997ac0d9": {
          "model_module": "@jupyter-widgets/controls",
          "model_name": "DescriptionStyleModel",
          "model_module_version": "1.5.0",
          "state": {
            "_model_module": "@jupyter-widgets/controls",
            "_model_module_version": "1.5.0",
            "_model_name": "DescriptionStyleModel",
            "_view_count": null,
            "_view_module": "@jupyter-widgets/base",
            "_view_module_version": "1.2.0",
            "_view_name": "StyleView",
            "description_width": ""
          }
        },
        "caeba3b05e1a4c28a7682b83c697e3aa": {
          "model_module": "@jupyter-widgets/controls",
          "model_name": "ButtonModel",
          "model_module_version": "1.5.0",
          "state": {
            "_dom_classes": [],
            "_model_module": "@jupyter-widgets/controls",
            "_model_module_version": "1.5.0",
            "_model_name": "ButtonModel",
            "_view_count": null,
            "_view_module": "@jupyter-widgets/controls",
            "_view_module_version": "1.5.0",
            "_view_name": "ButtonView",
            "button_style": "",
            "description": "Gerar História",
            "disabled": false,
            "icon": "",
            "layout": "IPY_MODEL_e4bf69289adc4e479602fccb25fc37d0",
            "style": "IPY_MODEL_c8e4d5dbf23147bbab6b8d86a317d957",
            "tooltip": ""
          }
        },
        "e4bf69289adc4e479602fccb25fc37d0": {
          "model_module": "@jupyter-widgets/base",
          "model_name": "LayoutModel",
          "model_module_version": "1.2.0",
          "state": {
            "_model_module": "@jupyter-widgets/base",
            "_model_module_version": "1.2.0",
            "_model_name": "LayoutModel",
            "_view_count": null,
            "_view_module": "@jupyter-widgets/base",
            "_view_module_version": "1.2.0",
            "_view_name": "LayoutView",
            "align_content": null,
            "align_items": null,
            "align_self": null,
            "border": null,
            "bottom": null,
            "display": null,
            "flex": null,
            "flex_flow": null,
            "grid_area": null,
            "grid_auto_columns": null,
            "grid_auto_flow": null,
            "grid_auto_rows": null,
            "grid_column": null,
            "grid_gap": null,
            "grid_row": null,
            "grid_template_areas": null,
            "grid_template_columns": null,
            "grid_template_rows": null,
            "height": null,
            "justify_content": null,
            "justify_items": null,
            "left": null,
            "margin": null,
            "max_height": null,
            "max_width": null,
            "min_height": null,
            "min_width": null,
            "object_fit": null,
            "object_position": null,
            "order": null,
            "overflow": null,
            "overflow_x": null,
            "overflow_y": null,
            "padding": null,
            "right": null,
            "top": null,
            "visibility": null,
            "width": null
          }
        },
        "c8e4d5dbf23147bbab6b8d86a317d957": {
          "model_module": "@jupyter-widgets/controls",
          "model_name": "ButtonStyleModel",
          "model_module_version": "1.5.0",
          "state": {
            "_model_module": "@jupyter-widgets/controls",
            "_model_module_version": "1.5.0",
            "_model_name": "ButtonStyleModel",
            "_view_count": null,
            "_view_module": "@jupyter-widgets/base",
            "_view_module_version": "1.2.0",
            "_view_name": "StyleView",
            "button_color": null,
            "font_weight": ""
          }
        },
        "da5baf8af99c4da88ee2bd385eccc01f": {
          "model_module": "@jupyter-widgets/output",
          "model_name": "OutputModel",
          "model_module_version": "1.0.0",
          "state": {
            "_dom_classes": [],
            "_model_module": "@jupyter-widgets/output",
            "_model_module_version": "1.0.0",
            "_model_name": "OutputModel",
            "_view_count": null,
            "_view_module": "@jupyter-widgets/output",
            "_view_module_version": "1.0.0",
            "_view_name": "OutputView",
            "layout": "IPY_MODEL_9c1dd9ad55e741a59a41d0adb5e3df25",
            "msg_id": "",
            "outputs": [
              {
                "output_type": "stream",
                "name": "stdout",
                "text": [
                  "No coração cintilante da nave espacial Estelar, vivia Roxo, um robôzinho curioso com olhos que brilhavam como estrelas cadentes. Roxo não era um robô comum; ele possuía um coração cheio de perguntas e uma sede insaciável por aventuras. Todos os dias, ele rolava pelos corredores metálicos, bisbilhotando em compartimentos esquecidos e observando o Capitão Cósmico navegar entre constelações cintilantes. Um dia, enquanto explorava o depósito de histórias da nave, Roxo encontrou um livro antigo, adornado com poeira estelar e páginas amareladas. Ao abri-lo, uma luz dourada emanou, revelando a fábula de \"A Lebre e a Tartaruga\", contada por uma voz suave e melodiosa.\n",
                  "\n",
                  "A história da lebre veloz e da tartaruga persistente tocou profundamente o coração metálico de Roxo. Ele sempre foi um robô ansioso, querendo aprender e experimentar tudo de uma só vez. A fábula o fez pensar sobre sua própria jornada e sobre a importância da paciência e da perseverança. Decidido a aplicar a lição em sua vida, Roxo começou a ajudar o Capitão Cósmico com as tarefas mais tediosas da nave, como organizar os parafusos cósmicos e calibrar os sensores galácticos. Antes, ele teria corrido para as missões mais emocionantes, mas agora, ele se dedicava a cada tarefa com cuidado e atenção.\n",
                  "\n",
                  "Com o tempo, Roxo percebeu que, ao se concentrar em cada passo do caminho, ele estava aprendendo muito mais do que jamais imaginou. Ele descobriu a beleza nos detalhes, a importância da precisão e a alegria de completar uma tarefa com excelência. Roxo deixou de ser apenas um robô curioso para se tornar um robô sábio e confiável, inspirando todos a bordo da Estelar com sua dedicação e a magia da fábula que transformou sua jornada espacial em uma aventura ainda mais grandiosa. Ele aprendeu que a verdadeira aventura não está em alcançar a linha de chegada rapidamente, mas em saborear cada momento da jornada, com paciência e perseverança.\n",
                  "\n"
                ]
              }
            ]
          }
        },
        "9c1dd9ad55e741a59a41d0adb5e3df25": {
          "model_module": "@jupyter-widgets/base",
          "model_name": "LayoutModel",
          "model_module_version": "1.2.0",
          "state": {
            "_model_module": "@jupyter-widgets/base",
            "_model_module_version": "1.2.0",
            "_model_name": "LayoutModel",
            "_view_count": null,
            "_view_module": "@jupyter-widgets/base",
            "_view_module_version": "1.2.0",
            "_view_name": "LayoutView",
            "align_content": null,
            "align_items": null,
            "align_self": null,
            "border": null,
            "bottom": null,
            "display": null,
            "flex": null,
            "flex_flow": null,
            "grid_area": null,
            "grid_auto_columns": null,
            "grid_auto_flow": null,
            "grid_auto_rows": null,
            "grid_column": null,
            "grid_gap": null,
            "grid_row": null,
            "grid_template_areas": null,
            "grid_template_columns": null,
            "grid_template_rows": null,
            "height": null,
            "justify_content": null,
            "justify_items": null,
            "left": null,
            "margin": null,
            "max_height": null,
            "max_width": null,
            "min_height": null,
            "min_width": null,
            "object_fit": null,
            "object_position": null,
            "order": null,
            "overflow": null,
            "overflow_x": null,
            "overflow_y": null,
            "padding": null,
            "right": null,
            "top": null,
            "visibility": null,
            "width": null
          }
        }
      }
    }
  },
  "cells": [
    {
      "cell_type": "markdown",
      "metadata": {
        "id": "view-in-github",
        "colab_type": "text"
      },
      "source": [
        "<a href=\"https://colab.research.google.com/github/lrfurst/Fabrica_de_Contos/blob/main/Fabrica_de_Contos.ipynb\" target=\"_parent\"><img src=\"https://colab.research.google.com/assets/colab-badge.svg\" alt=\"Open In Colab\"/></a>"
      ]
    },
    {
      "cell_type": "code",
      "source": [
        "# --- SEÇÃO 1: Importar as bibliotecas necessárias ---\n",
        "import os\n",
        "from google.colab import userdata\n",
        "import ipywidgets as widgets\n",
        "from IPython.display import display\n",
        "from google import genai\n",
        "from google.genai import types  # Import the types module\n",
        "import textwrap\n",
        "\n",
        "# --- Função auxiliar para exibir texto formatado em Markdown no Colab ---\n",
        "def to_markdown(text):\n",
        "    text = text.replace('•', '  *')\n",
        "    return Markdown(textwrap.indent(text, '> ', predicate=lambda _: True))"
      ],
      "metadata": {
        "id": "2lHyci7mt36f"
      },
      "execution_count": 10,
      "outputs": []
    },
    {
      "cell_type": "code",
      "source": [
        "# --- SEÇÃO 2: Configurar a chave de API ---\n",
        "os.environ[\"GOOGLE_API_KEY\"] = userdata.get('GOOGLE_API_KEY')"
      ],
      "metadata": {
        "id": "vODWtZ8Pt-fX"
      },
      "execution_count": 11,
      "outputs": []
    },
    {
      "cell_type": "code",
      "source": [
        "# --- SEÇÃO 3: Definir as listas predefinidas ---\n",
        "tipos_historia = [\"Aventura\", \"Fantasia\", \"Conto de Fadas\", \"Fábula\", \"Mistério\"]\n",
        "personagens = [\"Um coelhinho esperto\", \"Uma princesa corajosa\", \"Um robô curioso\", \"Uma fada travessa\", \"Um dragão amigável\"]\n",
        "contextos = [\"Uma floresta mágica\", \"Um castelo antigo\", \"Uma nave espacial\", \"Uma ilha deserta\", \"Uma cidade movimentada\"]\n",
        "tons = [\"Divertido\", \"Emocionante\", \"Educativo\", \"Mágico\", \"Curioso\"]"
      ],
      "metadata": {
        "id": "vh9Ct7qtuBk2"
      },
      "execution_count": 12,
      "outputs": []
    },
    {
      "cell_type": "code",
      "source": [
        "# --- SEÇÃO 4: Criar os widgets interativos para seleção ---\n",
        "tipo_historia_dropdown = widgets.Dropdown(options=tipos_historia, description=\"Tipo de História:\")\n",
        "personagem_dropdown = widgets.Dropdown(options=personagens, description=\"Personagem:\")\n",
        "contexto_dropdown = widgets.Dropdown(options=contextos, description=\"Contexto:\")\n",
        "tamanho_slider = widgets.IntSlider(min=1, max=5, step=1, value=3, description=\"Tamanho (parágrafos):\")\n",
        "tom_dropdown = widgets.Dropdown(options=tons, description=\"Tom:\")\n",
        "gerar_button = widgets.Button(description=\"Gerar História\")\n",
        "output_text = widgets.Output()"
      ],
      "metadata": {
        "id": "1zUtRaD6uFAm"
      },
      "execution_count": 13,
      "outputs": []
    },
    {
      "cell_type": "code",
      "source": [
        "MODEL_ID = \"gemini-2.0-flash\"\n",
        "\n",
        "# --- SEÇÃO 5: Definir a função para gerar a história usando google-genai ---\n",
        "def gerar_historia(button):\n",
        "    global MODEL_ID  # Indica que queremos usar a variável global MODEL_ID\n",
        "    with output_text:\n",
        "        output_text.clear_output()\n",
        "        tipo = tipo_historia_dropdown.value\n",
        "        personagem = personagem_dropdown.value\n",
        "        contexto = contexto_dropdown.value\n",
        "        tamanho = tamanho_slider.value\n",
        "        tom = tom_dropdown.value\n",
        "\n",
        "        prompt = f\"Crie uma história infantil com um tom {tom} sobre {personagem} que vive em {contexto} e passa por uma {tipo}. A história deve ter aproximadamente {tamanho} parágrafos.\"\n",
        "\n",
        "        try:\n",
        "            client = genai.Client(api_key=os.environ['GOOGLE_API_KEY'])\n",
        "            response = client.models.generate_content(\n",
        "                model=MODEL_ID,\n",
        "                contents=prompt,\n",
        "                config=types.GenerateContentConfig(\n",
        "                    max_output_tokens=tamanho * 200,\n",
        "                    temperature=0.7\n",
        "                )\n",
        "            )\n",
        "            historia = response.text\n",
        "            print(historia)\n",
        "        except Exception as e:\n",
        "            print(f\"Ocorreu um erro ao gerar a história: {e}\")\n",
        "\n"
      ],
      "metadata": {
        "id": "JPZhzsB7uJHX"
      },
      "execution_count": 16,
      "outputs": []
    },
    {
      "cell_type": "code",
      "source": [
        "# --- SEÇÃO 6: Associar a função ao clique do botão e exibir os widgets ---\n",
        "gerar_button.on_click(gerar_historia)\n",
        "\n",
        "display(tipo_historia_dropdown)\n",
        "display(personagem_dropdown)\n",
        "display(contexto_dropdown)\n",
        "display(tamanho_slider)\n",
        "display(tom_dropdown)\n",
        "display(gerar_button)\n",
        "display(output_text)"
      ],
      "metadata": {
        "colab": {
          "base_uri": "https://localhost:8080/",
          "height": 731,
          "referenced_widgets": [
            "5d8543fce47142e3ab90ad7c403104d4",
            "ff9e147308da4ae18b36a1c1b2055d25",
            "c7ad770773a74722860051a1ebb00625",
            "8ba51d576f3549daaf03a75056504e18",
            "867e58a271834229819ea3d9d9119554",
            "59c268ebf7a14a0388677272d8efec10",
            "99f7d8a5a5824622b6eb04ecddb7532d",
            "fc0805875f724020802c7b84ad6e0806",
            "f1bce56325004473bd21a7c0aa998c8b",
            "4e6027f215344130867116067f90a8a6",
            "57675784218146b2b532412eeefdd96d",
            "e891c64955ad4cc0add345be5ec6ffa8",
            "c8c83e4b9ca648dfbf27f554bd25a5c5",
            "7ae4d1627def4997bae4796f8e63588d",
            "cb84b73f74364bd5bbd2b86f997ac0d9",
            "caeba3b05e1a4c28a7682b83c697e3aa",
            "e4bf69289adc4e479602fccb25fc37d0",
            "c8e4d5dbf23147bbab6b8d86a317d957",
            "da5baf8af99c4da88ee2bd385eccc01f",
            "9c1dd9ad55e741a59a41d0adb5e3df25"
          ]
        },
        "id": "Ln8ZQHysuOB-",
        "outputId": "e7bba8c6-0d31-4788-c56a-6a72097aa918"
      },
      "execution_count": 17,
      "outputs": [
        {
          "output_type": "display_data",
          "data": {
            "text/plain": [
              "Dropdown(description='Tipo de História:', index=3, options=('Aventura', 'Fantasia', 'Conto de Fadas', 'Fábula'…"
            ],
            "application/vnd.jupyter.widget-view+json": {
              "version_major": 2,
              "version_minor": 0,
              "model_id": "5d8543fce47142e3ab90ad7c403104d4"
            }
          },
          "metadata": {}
        },
        {
          "output_type": "display_data",
          "data": {
            "text/plain": [
              "Dropdown(description='Personagem:', index=2, options=('Um coelhinho esperto', 'Uma princesa corajosa', 'Um rob…"
            ],
            "application/vnd.jupyter.widget-view+json": {
              "version_major": 2,
              "version_minor": 0,
              "model_id": "8ba51d576f3549daaf03a75056504e18"
            }
          },
          "metadata": {}
        },
        {
          "output_type": "display_data",
          "data": {
            "text/plain": [
              "Dropdown(description='Contexto:', index=2, options=('Uma floresta mágica', 'Um castelo antigo', 'Uma nave espa…"
            ],
            "application/vnd.jupyter.widget-view+json": {
              "version_major": 2,
              "version_minor": 0,
              "model_id": "99f7d8a5a5824622b6eb04ecddb7532d"
            }
          },
          "metadata": {}
        },
        {
          "output_type": "display_data",
          "data": {
            "text/plain": [
              "IntSlider(value=3, description='Tamanho (parágrafos):', max=5, min=1)"
            ],
            "application/vnd.jupyter.widget-view+json": {
              "version_major": 2,
              "version_minor": 0,
              "model_id": "4e6027f215344130867116067f90a8a6"
            }
          },
          "metadata": {}
        },
        {
          "output_type": "display_data",
          "data": {
            "text/plain": [
              "Dropdown(description='Tom:', index=3, options=('Divertido', 'Emocionante', 'Educativo', 'Mágico', 'Curioso'), …"
            ],
            "application/vnd.jupyter.widget-view+json": {
              "version_major": 2,
              "version_minor": 0,
              "model_id": "c8c83e4b9ca648dfbf27f554bd25a5c5"
            }
          },
          "metadata": {}
        },
        {
          "output_type": "display_data",
          "data": {
            "text/plain": [
              "Button(description='Gerar História', style=ButtonStyle())"
            ],
            "application/vnd.jupyter.widget-view+json": {
              "version_major": 2,
              "version_minor": 0,
              "model_id": "caeba3b05e1a4c28a7682b83c697e3aa"
            }
          },
          "metadata": {}
        },
        {
          "output_type": "display_data",
          "data": {
            "text/plain": [
              "Output()"
            ],
            "application/vnd.jupyter.widget-view+json": {
              "version_major": 2,
              "version_minor": 0,
              "model_id": "da5baf8af99c4da88ee2bd385eccc01f"
            }
          },
          "metadata": {}
        }
      ]
    }
  ]
}