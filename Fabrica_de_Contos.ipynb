{
  "nbformat": 4,
  "nbformat_minor": 0,
  "metadata": {
    "colab": {
      "provenance": [],
      "name": "Fabrica_de_Contos.ipynb",
      "include_colab_link": true
    },
    "kernelspec": {
      "name": "python3",
      "display_name": "Python 3"
    },
    "language_info": {
      "name": "python"
    },
    "widgets": {
      "application/vnd.jupyter.widget-state+json": {
        "3526b8e608804942a3f99faa1a49e0e1": {
          "model_module": "@jupyter-widgets/controls",
          "model_name": "DropdownModel",
          "model_module_version": "1.5.0",
          "state": {
            "_dom_classes": [],
            "_model_module": "@jupyter-widgets/controls",
            "_model_module_version": "1.5.0",
            "_model_name": "DropdownModel",
            "_options_labels": [
              "Aventura",
              "Fantasia",
              "Conto de Fadas",
              "Fábula",
              "Mistério"
            ],
            "_view_count": null,
            "_view_module": "@jupyter-widgets/controls",
            "_view_module_version": "1.5.0",
            "_view_name": "DropdownView",
            "description": "Tipo de História:",
            "description_tooltip": null,
            "disabled": false,
            "index": 0,
            "layout": "IPY_MODEL_16366e37e6f3449a82f2115fd3cba8fe",
            "style": "IPY_MODEL_c9ba97f9be034b43995763bd44100223"
          }
        },
        "16366e37e6f3449a82f2115fd3cba8fe": {
          "model_module": "@jupyter-widgets/base",
          "model_name": "LayoutModel",
          "model_module_version": "1.2.0",
          "state": {
            "_model_module": "@jupyter-widgets/base",
            "_model_module_version": "1.2.0",
            "_model_name": "LayoutModel",
            "_view_count": null,
            "_view_module": "@jupyter-widgets/base",
            "_view_module_version": "1.2.0",
            "_view_name": "LayoutView",
            "align_content": null,
            "align_items": null,
            "align_self": null,
            "border": null,
            "bottom": null,
            "display": null,
            "flex": null,
            "flex_flow": null,
            "grid_area": null,
            "grid_auto_columns": null,
            "grid_auto_flow": null,
            "grid_auto_rows": null,
            "grid_column": null,
            "grid_gap": null,
            "grid_row": null,
            "grid_template_areas": null,
            "grid_template_columns": null,
            "grid_template_rows": null,
            "height": null,
            "justify_content": null,
            "justify_items": null,
            "left": null,
            "margin": null,
            "max_height": null,
            "max_width": null,
            "min_height": null,
            "min_width": null,
            "object_fit": null,
            "object_position": null,
            "order": null,
            "overflow": null,
            "overflow_x": null,
            "overflow_y": null,
            "padding": null,
            "right": null,
            "top": null,
            "visibility": null,
            "width": null
          }
        },
        "c9ba97f9be034b43995763bd44100223": {
          "model_module": "@jupyter-widgets/controls",
          "model_name": "DescriptionStyleModel",
          "model_module_version": "1.5.0",
          "state": {
            "_model_module": "@jupyter-widgets/controls",
            "_model_module_version": "1.5.0",
            "_model_name": "DescriptionStyleModel",
            "_view_count": null,
            "_view_module": "@jupyter-widgets/base",
            "_view_module_version": "1.2.0",
            "_view_name": "StyleView",
            "description_width": ""
          }
        },
        "c88868d6fa2b4b74bdc9c0e6fc5ad46c": {
          "model_module": "@jupyter-widgets/controls",
          "model_name": "DropdownModel",
          "model_module_version": "1.5.0",
          "state": {
            "_dom_classes": [],
            "_model_module": "@jupyter-widgets/controls",
            "_model_module_version": "1.5.0",
            "_model_name": "DropdownModel",
            "_options_labels": [
              "Um coelhinho esperto",
              "Uma princesa corajosa",
              "Um robô curioso",
              "Uma fada travessa",
              "Um dragão amigável"
            ],
            "_view_count": null,
            "_view_module": "@jupyter-widgets/controls",
            "_view_module_version": "1.5.0",
            "_view_name": "DropdownView",
            "description": "Personagem:",
            "description_tooltip": null,
            "disabled": false,
            "index": 0,
            "layout": "IPY_MODEL_ced27cfb794b4624b082994336f9fcb8",
            "style": "IPY_MODEL_743fb3f87dd340b698c483c2c01017ca"
          }
        },
        "ced27cfb794b4624b082994336f9fcb8": {
          "model_module": "@jupyter-widgets/base",
          "model_name": "LayoutModel",
          "model_module_version": "1.2.0",
          "state": {
            "_model_module": "@jupyter-widgets/base",
            "_model_module_version": "1.2.0",
            "_model_name": "LayoutModel",
            "_view_count": null,
            "_view_module": "@jupyter-widgets/base",
            "_view_module_version": "1.2.0",
            "_view_name": "LayoutView",
            "align_content": null,
            "align_items": null,
            "align_self": null,
            "border": null,
            "bottom": null,
            "display": null,
            "flex": null,
            "flex_flow": null,
            "grid_area": null,
            "grid_auto_columns": null,
            "grid_auto_flow": null,
            "grid_auto_rows": null,
            "grid_column": null,
            "grid_gap": null,
            "grid_row": null,
            "grid_template_areas": null,
            "grid_template_columns": null,
            "grid_template_rows": null,
            "height": null,
            "justify_content": null,
            "justify_items": null,
            "left": null,
            "margin": null,
            "max_height": null,
            "max_width": null,
            "min_height": null,
            "min_width": null,
            "object_fit": null,
            "object_position": null,
            "order": null,
            "overflow": null,
            "overflow_x": null,
            "overflow_y": null,
            "padding": null,
            "right": null,
            "top": null,
            "visibility": null,
            "width": null
          }
        },
        "743fb3f87dd340b698c483c2c01017ca": {
          "model_module": "@jupyter-widgets/controls",
          "model_name": "DescriptionStyleModel",
          "model_module_version": "1.5.0",
          "state": {
            "_model_module": "@jupyter-widgets/controls",
            "_model_module_version": "1.5.0",
            "_model_name": "DescriptionStyleModel",
            "_view_count": null,
            "_view_module": "@jupyter-widgets/base",
            "_view_module_version": "1.2.0",
            "_view_name": "StyleView",
            "description_width": ""
          }
        },
        "dbc7f6f267e24df1909c1b023458cfa9": {
          "model_module": "@jupyter-widgets/controls",
          "model_name": "DropdownModel",
          "model_module_version": "1.5.0",
          "state": {
            "_dom_classes": [],
            "_model_module": "@jupyter-widgets/controls",
            "_model_module_version": "1.5.0",
            "_model_name": "DropdownModel",
            "_options_labels": [
              "Uma floresta mágica",
              "Um castelo antigo",
              "Uma nave espacial",
              "Uma ilha deserta",
              "Uma cidade movimentada"
            ],
            "_view_count": null,
            "_view_module": "@jupyter-widgets/controls",
            "_view_module_version": "1.5.0",
            "_view_name": "DropdownView",
            "description": "Contexto:",
            "description_tooltip": null,
            "disabled": false,
            "index": 0,
            "layout": "IPY_MODEL_a0a6fe1c3c334991a59406720c377030",
            "style": "IPY_MODEL_152fc61b234e47208e0a8ef19303a83f"
          }
        },
        "a0a6fe1c3c334991a59406720c377030": {
          "model_module": "@jupyter-widgets/base",
          "model_name": "LayoutModel",
          "model_module_version": "1.2.0",
          "state": {
            "_model_module": "@jupyter-widgets/base",
            "_model_module_version": "1.2.0",
            "_model_name": "LayoutModel",
            "_view_count": null,
            "_view_module": "@jupyter-widgets/base",
            "_view_module_version": "1.2.0",
            "_view_name": "LayoutView",
            "align_content": null,
            "align_items": null,
            "align_self": null,
            "border": null,
            "bottom": null,
            "display": null,
            "flex": null,
            "flex_flow": null,
            "grid_area": null,
            "grid_auto_columns": null,
            "grid_auto_flow": null,
            "grid_auto_rows": null,
            "grid_column": null,
            "grid_gap": null,
            "grid_row": null,
            "grid_template_areas": null,
            "grid_template_columns": null,
            "grid_template_rows": null,
            "height": null,
            "justify_content": null,
            "justify_items": null,
            "left": null,
            "margin": null,
            "max_height": null,
            "max_width": null,
            "min_height": null,
            "min_width": null,
            "object_fit": null,
            "object_position": null,
            "order": null,
            "overflow": null,
            "overflow_x": null,
            "overflow_y": null,
            "padding": null,
            "right": null,
            "top": null,
            "visibility": null,
            "width": null
          }
        },
        "152fc61b234e47208e0a8ef19303a83f": {
          "model_module": "@jupyter-widgets/controls",
          "model_name": "DescriptionStyleModel",
          "model_module_version": "1.5.0",
          "state": {
            "_model_module": "@jupyter-widgets/controls",
            "_model_module_version": "1.5.0",
            "_model_name": "DescriptionStyleModel",
            "_view_count": null,
            "_view_module": "@jupyter-widgets/base",
            "_view_module_version": "1.2.0",
            "_view_name": "StyleView",
            "description_width": ""
          }
        },
        "1c178efc650643c59ca81c3cf1646072": {
          "model_module": "@jupyter-widgets/controls",
          "model_name": "IntSliderModel",
          "model_module_version": "1.5.0",
          "state": {
            "_dom_classes": [],
            "_model_module": "@jupyter-widgets/controls",
            "_model_module_version": "1.5.0",
            "_model_name": "IntSliderModel",
            "_view_count": null,
            "_view_module": "@jupyter-widgets/controls",
            "_view_module_version": "1.5.0",
            "_view_name": "IntSliderView",
            "continuous_update": true,
            "description": "Tamanho (parágrafos):",
            "description_tooltip": null,
            "disabled": false,
            "layout": "IPY_MODEL_daf62f65d7914c07850eda1d565378ef",
            "max": 5,
            "min": 1,
            "orientation": "horizontal",
            "readout": true,
            "readout_format": "d",
            "step": 1,
            "style": "IPY_MODEL_c8b08831ff4e4a128f4c687e726f6daa",
            "value": 3
          }
        },
        "daf62f65d7914c07850eda1d565378ef": {
          "model_module": "@jupyter-widgets/base",
          "model_name": "LayoutModel",
          "model_module_version": "1.2.0",
          "state": {
            "_model_module": "@jupyter-widgets/base",
            "_model_module_version": "1.2.0",
            "_model_name": "LayoutModel",
            "_view_count": null,
            "_view_module": "@jupyter-widgets/base",
            "_view_module_version": "1.2.0",
            "_view_name": "LayoutView",
            "align_content": null,
            "align_items": null,
            "align_self": null,
            "border": null,
            "bottom": null,
            "display": null,
            "flex": null,
            "flex_flow": null,
            "grid_area": null,
            "grid_auto_columns": null,
            "grid_auto_flow": null,
            "grid_auto_rows": null,
            "grid_column": null,
            "grid_gap": null,
            "grid_row": null,
            "grid_template_areas": null,
            "grid_template_columns": null,
            "grid_template_rows": null,
            "height": null,
            "justify_content": null,
            "justify_items": null,
            "left": null,
            "margin": null,
            "max_height": null,
            "max_width": null,
            "min_height": null,
            "min_width": null,
            "object_fit": null,
            "object_position": null,
            "order": null,
            "overflow": null,
            "overflow_x": null,
            "overflow_y": null,
            "padding": null,
            "right": null,
            "top": null,
            "visibility": null,
            "width": null
          }
        },
        "c8b08831ff4e4a128f4c687e726f6daa": {
          "model_module": "@jupyter-widgets/controls",
          "model_name": "SliderStyleModel",
          "model_module_version": "1.5.0",
          "state": {
            "_model_module": "@jupyter-widgets/controls",
            "_model_module_version": "1.5.0",
            "_model_name": "SliderStyleModel",
            "_view_count": null,
            "_view_module": "@jupyter-widgets/base",
            "_view_module_version": "1.2.0",
            "_view_name": "StyleView",
            "description_width": "",
            "handle_color": null
          }
        },
        "15c5fba6aef34d42890270f6d2a5ec4f": {
          "model_module": "@jupyter-widgets/controls",
          "model_name": "DropdownModel",
          "model_module_version": "1.5.0",
          "state": {
            "_dom_classes": [],
            "_model_module": "@jupyter-widgets/controls",
            "_model_module_version": "1.5.0",
            "_model_name": "DropdownModel",
            "_options_labels": [
              "Divertido",
              "Emocionante",
              "Educativo",
              "Mágico",
              "Curioso"
            ],
            "_view_count": null,
            "_view_module": "@jupyter-widgets/controls",
            "_view_module_version": "1.5.0",
            "_view_name": "DropdownView",
            "description": "Tom:",
            "description_tooltip": null,
            "disabled": false,
            "index": 0,
            "layout": "IPY_MODEL_e62188ef8c9a4400a6a8ebaea29d0952",
            "style": "IPY_MODEL_60bb0440a8284f23a25889075f28337d"
          }
        },
        "e62188ef8c9a4400a6a8ebaea29d0952": {
          "model_module": "@jupyter-widgets/base",
          "model_name": "LayoutModel",
          "model_module_version": "1.2.0",
          "state": {
            "_model_module": "@jupyter-widgets/base",
            "_model_module_version": "1.2.0",
            "_model_name": "LayoutModel",
            "_view_count": null,
            "_view_module": "@jupyter-widgets/base",
            "_view_module_version": "1.2.0",
            "_view_name": "LayoutView",
            "align_content": null,
            "align_items": null,
            "align_self": null,
            "border": null,
            "bottom": null,
            "display": null,
            "flex": null,
            "flex_flow": null,
            "grid_area": null,
            "grid_auto_columns": null,
            "grid_auto_flow": null,
            "grid_auto_rows": null,
            "grid_column": null,
            "grid_gap": null,
            "grid_row": null,
            "grid_template_areas": null,
            "grid_template_columns": null,
            "grid_template_rows": null,
            "height": null,
            "justify_content": null,
            "justify_items": null,
            "left": null,
            "margin": null,
            "max_height": null,
            "max_width": null,
            "min_height": null,
            "min_width": null,
            "object_fit": null,
            "object_position": null,
            "order": null,
            "overflow": null,
            "overflow_x": null,
            "overflow_y": null,
            "padding": null,
            "right": null,
            "top": null,
            "visibility": null,
            "width": null
          }
        },
        "60bb0440a8284f23a25889075f28337d": {
          "model_module": "@jupyter-widgets/controls",
          "model_name": "DescriptionStyleModel",
          "model_module_version": "1.5.0",
          "state": {
            "_model_module": "@jupyter-widgets/controls",
            "_model_module_version": "1.5.0",
            "_model_name": "DescriptionStyleModel",
            "_view_count": null,
            "_view_module": "@jupyter-widgets/base",
            "_view_module_version": "1.2.0",
            "_view_name": "StyleView",
            "description_width": ""
          }
        },
        "59aa5ad004c442a8ba529ad3eb953b75": {
          "model_module": "@jupyter-widgets/controls",
          "model_name": "ButtonModel",
          "model_module_version": "1.5.0",
          "state": {
            "_dom_classes": [],
            "_model_module": "@jupyter-widgets/controls",
            "_model_module_version": "1.5.0",
            "_model_name": "ButtonModel",
            "_view_count": null,
            "_view_module": "@jupyter-widgets/controls",
            "_view_module_version": "1.5.0",
            "_view_name": "ButtonView",
            "button_style": "",
            "description": "Gerar História",
            "disabled": false,
            "icon": "",
            "layout": "IPY_MODEL_5550a24c46a8418abc695d9d494d57f0",
            "style": "IPY_MODEL_68b97a9e5f814845be21d9bb47dc9de0",
            "tooltip": ""
          }
        },
        "5550a24c46a8418abc695d9d494d57f0": {
          "model_module": "@jupyter-widgets/base",
          "model_name": "LayoutModel",
          "model_module_version": "1.2.0",
          "state": {
            "_model_module": "@jupyter-widgets/base",
            "_model_module_version": "1.2.0",
            "_model_name": "LayoutModel",
            "_view_count": null,
            "_view_module": "@jupyter-widgets/base",
            "_view_module_version": "1.2.0",
            "_view_name": "LayoutView",
            "align_content": null,
            "align_items": null,
            "align_self": null,
            "border": null,
            "bottom": null,
            "display": null,
            "flex": null,
            "flex_flow": null,
            "grid_area": null,
            "grid_auto_columns": null,
            "grid_auto_flow": null,
            "grid_auto_rows": null,
            "grid_column": null,
            "grid_gap": null,
            "grid_row": null,
            "grid_template_areas": null,
            "grid_template_columns": null,
            "grid_template_rows": null,
            "height": null,
            "justify_content": null,
            "justify_items": null,
            "left": null,
            "margin": null,
            "max_height": null,
            "max_width": null,
            "min_height": null,
            "min_width": null,
            "object_fit": null,
            "object_position": null,
            "order": null,
            "overflow": null,
            "overflow_x": null,
            "overflow_y": null,
            "padding": null,
            "right": null,
            "top": null,
            "visibility": null,
            "width": null
          }
        },
        "68b97a9e5f814845be21d9bb47dc9de0": {
          "model_module": "@jupyter-widgets/controls",
          "model_name": "ButtonStyleModel",
          "model_module_version": "1.5.0",
          "state": {
            "_model_module": "@jupyter-widgets/controls",
            "_model_module_version": "1.5.0",
            "_model_name": "ButtonStyleModel",
            "_view_count": null,
            "_view_module": "@jupyter-widgets/base",
            "_view_module_version": "1.2.0",
            "_view_name": "StyleView",
            "button_color": null,
            "font_weight": ""
          }
        },
        "0685729df3d2431eb420b6fd0a6ff0f4": {
          "model_module": "@jupyter-widgets/output",
          "model_name": "OutputModel",
          "model_module_version": "1.0.0",
          "state": {
            "_dom_classes": [],
            "_model_module": "@jupyter-widgets/output",
            "_model_module_version": "1.0.0",
            "_model_name": "OutputModel",
            "_view_count": null,
            "_view_module": "@jupyter-widgets/output",
            "_view_module_version": "1.0.0",
            "_view_name": "OutputView",
            "layout": "IPY_MODEL_f84cfc928253402793c8c577979e2fa6",
            "msg_id": "",
            "outputs": [
              {
                "output_type": "stream",
                "name": "stdout",
                "text": [
                  "Era uma vez, na Floresta Borbulhante, um coelhinho chamado Zeca. Zeca não era um coelho qualquer, ele tinha um nariz que farejava confusão e um par de orelhas que captavam até o pensamento das borboletas! Um dia, enquanto saltitava por entre cogumelos que soltavam pum de glitter, Zeca ouviu um choro vindo da Árvore Gargalhada. Curioso como um gato atrás de um novelo de lã, Zeca se aproximou e viu uma fada minúscula, do tamanho de um dedal, enroscada em um galho. A fada, chamada Lila, havia perdido sua varinha mágica, que era também seu pente de cabelo e seu garfo de bolo! Sem a varinha, Lila não conseguia fazer o rio de chocolate quente voltar a jorrar!\n",
                  "\n",
                  "Zeca, com seu faro para encrencas e sua paixão por chocolate quente, decidiu ajudar Lila. \"Não se preocupe, Lila! Eu, Zeca, o Coelho Detetive da Floresta Borbulhante, vou encontrar sua varinha!\", exclamou, inflando o peito. Ele começou a farejar o chão, seguindo um rastro de brilho cor-de-rosa que parecia ter sido deixado por um unicórnio espirrando purpurina. A trilha o levou através de um campo de margaridas que cantavam ópera desafinada e por um lago onde os peixes contavam piadas sem graça. Zeca ria tanto das piadas (algumas eram engraçadas, confesse!) que quase se esqueceu da varinha de Lila.\n",
                  "\n",
                  "Finalmente, a trilha de brilho cor-de-rosa terminou em frente à casa do Sr. Guaxinim Rabugento, um sujeito conhecido por colecionar objetos brilhantes. Zeca, com um plano mirabolante em mente, começou a imitar o som de uma orquestra desafinada, usando gravetos como baquetas e tampinhas de garrafa como pratos. O Sr. Guaxinim, irritado com a barulheira, saiu de casa furioso. Zeca, então, apontou para a varinha de Lila, que estava enfiada no telhado da casa do guaxinim, brilhando sob o sol. O Sr. Guaxinim, distraído com a música horrível, nem percebeu quando Zeca pegou a varinha e correu de volta para Lila. Com a varinha de volta, Lila fez o rio de chocolate quente jorrar novamente, e Zeca ganhou um banho de chocolate cremoso e um título oficial: Zeca, o Coelho Herói da Floresta Borbulhante!\n",
                  "\n"
                ]
              }
            ]
          }
        },
        "f84cfc928253402793c8c577979e2fa6": {
          "model_module": "@jupyter-widgets/base",
          "model_name": "LayoutModel",
          "model_module_version": "1.2.0",
          "state": {
            "_model_module": "@jupyter-widgets/base",
            "_model_module_version": "1.2.0",
            "_model_name": "LayoutModel",
            "_view_count": null,
            "_view_module": "@jupyter-widgets/base",
            "_view_module_version": "1.2.0",
            "_view_name": "LayoutView",
            "align_content": null,
            "align_items": null,
            "align_self": null,
            "border": null,
            "bottom": null,
            "display": null,
            "flex": null,
            "flex_flow": null,
            "grid_area": null,
            "grid_auto_columns": null,
            "grid_auto_flow": null,
            "grid_auto_rows": null,
            "grid_column": null,
            "grid_gap": null,
            "grid_row": null,
            "grid_template_areas": null,
            "grid_template_columns": null,
            "grid_template_rows": null,
            "height": null,
            "justify_content": null,
            "justify_items": null,
            "left": null,
            "margin": null,
            "max_height": null,
            "max_width": null,
            "min_height": null,
            "min_width": null,
            "object_fit": null,
            "object_position": null,
            "order": null,
            "overflow": null,
            "overflow_x": null,
            "overflow_y": null,
            "padding": null,
            "right": null,
            "top": null,
            "visibility": null,
            "width": null
          }
        }
      }
    }
  },
  "cells": [
    {
      "cell_type": "markdown",
      "metadata": {
        "id": "view-in-github",
        "colab_type": "text"
      },
      "source": [
        "<a href=\"https://colab.research.google.com/github/lrfurst/Fabrica_de_Contos/blob/main/Fabrica_de_Contos.ipynb\" target=\"_parent\"><img src=\"https://colab.research.google.com/assets/colab-badge.svg\" alt=\"Open In Colab\"/></a>"
      ]
    },
    {
      "cell_type": "code",
      "source": [
        "# --- SEÇÃO 1: Importar as bibliotecas necessárias ---\n",
        "import os\n",
        "from google.colab import userdata\n",
        "import ipywidgets as widgets\n",
        "from IPython.display import display\n",
        "from google import genai\n",
        "from google.genai import types  # Import the types module\n",
        "import textwrap\n",
        "\n",
        "# --- Função auxiliar para exibir texto formatado em Markdown no Colab ---\n",
        "def to_markdown(text):\n",
        "    text = text.replace('•', '  *')\n",
        "    return Markdown(textwrap.indent(text, '> ', predicate=lambda _: True))\n",
        "\n",
        "# --- SEÇÃO 2: Configurar a chave de API ---\n",
        "os.environ[\"GOOGLE_API_KEY\"] = userdata.get('GOOGLE_API_KEY')\n",
        "\n",
        "# --- SEÇÃO 3: Definir as listas predefinidas ---\n",
        "tipos_historia = [\"Aventura\", \"Fantasia\", \"Conto de Fadas\", \"Fábula\", \"Mistério\"]\n",
        "personagens = [\"Um coelhinho esperto\", \"Uma princesa corajosa\", \"Um robô curioso\", \"Uma fada travessa\", \"Um dragão amigável\"]\n",
        "contextos = [\"Uma floresta mágica\", \"Um castelo antigo\", \"Uma nave espacial\", \"Uma ilha deserta\", \"Uma cidade movimentada\"]\n",
        "tons = [\"Divertido\", \"Emocionante\", \"Educativo\", \"Mágico\", \"Curioso\"]\n",
        "\n",
        "# --- SEÇÃO 4: Criar os widgets interativos para seleção ---\n",
        "tipo_historia_dropdown = widgets.Dropdown(options=tipos_historia, description=\"Tipo de História:\")\n",
        "personagem_dropdown = widgets.Dropdown(options=personagens, description=\"Personagem:\")\n",
        "contexto_dropdown = widgets.Dropdown(options=contextos, description=\"Contexto:\")\n",
        "tamanho_slider = widgets.IntSlider(min=1, max=5, step=1, value=3, description=\"Tamanho (parágrafos):\")\n",
        "tom_dropdown = widgets.Dropdown(options=tons, description=\"Tom:\")\n",
        "gerar_button = widgets.Button(description=\"Gerar História\")\n",
        "output_text = widgets.Output()\n",
        "\n",
        "MODEL_ID = \"gemini-2.0-flash\"\n",
        "\n",
        "# --- SEÇÃO 5: Definir a função para gerar a história usando google-genai ---\n",
        "def gerar_historia(button):\n",
        "    global MODEL_ID  # Indica que queremos usar a variável global MODEL_ID\n",
        "    with output_text:\n",
        "        output_text.clear_output()\n",
        "        tipo = tipo_historia_dropdown.value\n",
        "        personagem = personagem_dropdown.value\n",
        "        contexto = contexto_dropdown.value\n",
        "        tamanho = tamanho_slider.value\n",
        "        tom = tom_dropdown.value\n",
        "\n",
        "        prompt = f\"Crie uma história infantil com um tom {tom} sobre {personagem} que vive em {contexto} e passa por uma {tipo}. A história deve ter aproximadamente {tamanho} parágrafos.\"\n",
        "\n",
        "        try:\n",
        "            client = genai.Client(api_key=os.environ['GOOGLE_API_KEY'])\n",
        "            response = client.models.generate_content(\n",
        "                model=MODEL_ID,\n",
        "                contents=prompt,\n",
        "                config=types.GenerateContentConfig(\n",
        "                    max_output_tokens=tamanho * 200,\n",
        "                    temperature=0.7\n",
        "                )\n",
        "            )\n",
        "            historia = response.text\n",
        "            print(historia)\n",
        "        except Exception as e:\n",
        "            print(f\"Ocorreu um erro ao gerar a história: {e}\")\n",
        "\n",
        "# --- SEÇÃO 6: Associar a função ao clique do botão e exibir os widgets ---\n",
        "gerar_button.on_click(gerar_historia)\n",
        "\n",
        "display(tipo_historia_dropdown)\n",
        "display(personagem_dropdown)\n",
        "display(contexto_dropdown)\n",
        "display(tamanho_slider)\n",
        "display(tom_dropdown)\n",
        "display(gerar_button)\n",
        "display(output_text)\n"
      ],
      "metadata": {
        "id": "2lHyci7mt36f",
        "colab": {
          "base_uri": "https://localhost:8080/",
          "height": 496,
          "referenced_widgets": [
            "3526b8e608804942a3f99faa1a49e0e1",
            "16366e37e6f3449a82f2115fd3cba8fe",
            "c9ba97f9be034b43995763bd44100223",
            "c88868d6fa2b4b74bdc9c0e6fc5ad46c",
            "ced27cfb794b4624b082994336f9fcb8",
            "743fb3f87dd340b698c483c2c01017ca",
            "dbc7f6f267e24df1909c1b023458cfa9",
            "a0a6fe1c3c334991a59406720c377030",
            "152fc61b234e47208e0a8ef19303a83f",
            "1c178efc650643c59ca81c3cf1646072",
            "daf62f65d7914c07850eda1d565378ef",
            "c8b08831ff4e4a128f4c687e726f6daa",
            "15c5fba6aef34d42890270f6d2a5ec4f",
            "e62188ef8c9a4400a6a8ebaea29d0952",
            "60bb0440a8284f23a25889075f28337d",
            "59aa5ad004c442a8ba529ad3eb953b75",
            "5550a24c46a8418abc695d9d494d57f0",
            "68b97a9e5f814845be21d9bb47dc9de0",
            "0685729df3d2431eb420b6fd0a6ff0f4",
            "f84cfc928253402793c8c577979e2fa6"
          ]
        },
        "outputId": "ef3db323-fdfb-4cdf-d109-1a7b891230d5"
      },
      "execution_count": 1,
      "outputs": [
        {
          "output_type": "display_data",
          "data": {
            "text/plain": [
              "Dropdown(description='Tipo de História:', options=('Aventura', 'Fantasia', 'Conto de Fadas', 'Fábula', 'Mistér…"
            ],
            "application/vnd.jupyter.widget-view+json": {
              "version_major": 2,
              "version_minor": 0,
              "model_id": "3526b8e608804942a3f99faa1a49e0e1"
            }
          },
          "metadata": {}
        },
        {
          "output_type": "display_data",
          "data": {
            "text/plain": [
              "Dropdown(description='Personagem:', options=('Um coelhinho esperto', 'Uma princesa corajosa', 'Um robô curioso…"
            ],
            "application/vnd.jupyter.widget-view+json": {
              "version_major": 2,
              "version_minor": 0,
              "model_id": "c88868d6fa2b4b74bdc9c0e6fc5ad46c"
            }
          },
          "metadata": {}
        },
        {
          "output_type": "display_data",
          "data": {
            "text/plain": [
              "Dropdown(description='Contexto:', options=('Uma floresta mágica', 'Um castelo antigo', 'Uma nave espacial', 'U…"
            ],
            "application/vnd.jupyter.widget-view+json": {
              "version_major": 2,
              "version_minor": 0,
              "model_id": "dbc7f6f267e24df1909c1b023458cfa9"
            }
          },
          "metadata": {}
        },
        {
          "output_type": "display_data",
          "data": {
            "text/plain": [
              "IntSlider(value=3, description='Tamanho (parágrafos):', max=5, min=1)"
            ],
            "application/vnd.jupyter.widget-view+json": {
              "version_major": 2,
              "version_minor": 0,
              "model_id": "1c178efc650643c59ca81c3cf1646072"
            }
          },
          "metadata": {}
        },
        {
          "output_type": "display_data",
          "data": {
            "text/plain": [
              "Dropdown(description='Tom:', options=('Divertido', 'Emocionante', 'Educativo', 'Mágico', 'Curioso'), value='Di…"
            ],
            "application/vnd.jupyter.widget-view+json": {
              "version_major": 2,
              "version_minor": 0,
              "model_id": "15c5fba6aef34d42890270f6d2a5ec4f"
            }
          },
          "metadata": {}
        },
        {
          "output_type": "display_data",
          "data": {
            "text/plain": [
              "Button(description='Gerar História', style=ButtonStyle())"
            ],
            "application/vnd.jupyter.widget-view+json": {
              "version_major": 2,
              "version_minor": 0,
              "model_id": "59aa5ad004c442a8ba529ad3eb953b75"
            }
          },
          "metadata": {}
        },
        {
          "output_type": "display_data",
          "data": {
            "text/plain": [
              "Output()"
            ],
            "application/vnd.jupyter.widget-view+json": {
              "version_major": 2,
              "version_minor": 0,
              "model_id": "0685729df3d2431eb420b6fd0a6ff0f4"
            }
          },
          "metadata": {}
        }
      ]
    }
  ]
}